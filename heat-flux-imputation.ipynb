{
 "cells": [
  {
   "cell_type": "code",
   "execution_count": 1,
   "id": "f02aae39",
   "metadata": {
    "_cell_guid": "b1076dfc-b9ad-4769-8c92-a6c4dae69d19",
    "_uuid": "8f2839f25d086af736a60e9eeb907d3b93b6e0e5",
    "execution": {
     "iopub.execute_input": "2023-05-26T06:35:42.995529Z",
     "iopub.status.busy": "2023-05-26T06:35:42.995155Z",
     "iopub.status.idle": "2023-05-26T06:35:43.014911Z",
     "shell.execute_reply": "2023-05-26T06:35:43.014086Z"
    },
    "papermill": {
     "duration": 0.029744,
     "end_time": "2023-05-26T06:35:43.017246",
     "exception": false,
     "start_time": "2023-05-26T06:35:42.987502",
     "status": "completed"
    },
    "tags": []
   },
   "outputs": [
    {
     "name": "stdout",
     "output_type": "stream",
     "text": [
      "/kaggle/input/predicting-heat-flux/Data_CHF_Zhao_2020_ATE.csv\n",
      "/kaggle/input/playground-series-s3e15/sample_submission.csv\n",
      "/kaggle/input/playground-series-s3e15/data.csv\n"
     ]
    }
   ],
   "source": [
    "# This Python 3 environment comes with many helpful analytics libraries installed\n",
    "# It is defined by the kaggle/python Docker image: https://github.com/kaggle/docker-python\n",
    "# For example, here's several helpful packages to load\n",
    "\n",
    "import numpy as np # linear algebra\n",
    "import pandas as pd # data processing, CSV file I/O (e.g. pd.read_csv)\n",
    "\n",
    "# Input data files are available in the read-only \"../input/\" directory\n",
    "# For example, running this (by clicking run or pressing Shift+Enter) will list all files under the input directory\n",
    "\n",
    "import os\n",
    "for dirname, _, filenames in os.walk('/kaggle/input'):\n",
    "    for filename in filenames:\n",
    "        print(os.path.join(dirname, filename))\n",
    "\n",
    "# You can write up to 20GB to the current directory (/kaggle/working/) that gets preserved as output when you create a version using \"Save & Run All\" \n",
    "# You can also write temporary files to /kaggle/temp/, but they won't be saved outside of the current session"
   ]
  },
  {
   "cell_type": "code",
   "execution_count": 2,
   "id": "31f79aa9",
   "metadata": {
    "execution": {
     "iopub.execute_input": "2023-05-26T06:35:43.030815Z",
     "iopub.status.busy": "2023-05-26T06:35:43.030155Z",
     "iopub.status.idle": "2023-05-26T06:35:43.163354Z",
     "shell.execute_reply": "2023-05-26T06:35:43.162443Z"
    },
    "papermill": {
     "duration": 0.142304,
     "end_time": "2023-05-26T06:35:43.165385",
     "exception": false,
     "start_time": "2023-05-26T06:35:43.023081",
     "status": "completed"
    },
    "tags": []
   },
   "outputs": [
    {
     "data": {
      "text/html": [
       "<div>\n",
       "<style scoped>\n",
       "    .dataframe tbody tr th:only-of-type {\n",
       "        vertical-align: middle;\n",
       "    }\n",
       "\n",
       "    .dataframe tbody tr th {\n",
       "        vertical-align: top;\n",
       "    }\n",
       "\n",
       "    .dataframe thead th {\n",
       "        text-align: right;\n",
       "    }\n",
       "</style>\n",
       "<table border=\"1\" class=\"dataframe\">\n",
       "  <thead>\n",
       "    <tr style=\"text-align: right;\">\n",
       "      <th></th>\n",
       "      <th>id</th>\n",
       "      <th>author</th>\n",
       "      <th>geometry</th>\n",
       "      <th>pressure [MPa]</th>\n",
       "      <th>mass_flux [kg/m2-s]</th>\n",
       "      <th>x_e_out [-]</th>\n",
       "      <th>D_e [mm]</th>\n",
       "      <th>D_h [mm]</th>\n",
       "      <th>length [mm]</th>\n",
       "      <th>chf_exp [MW/m2]</th>\n",
       "    </tr>\n",
       "  </thead>\n",
       "  <tbody>\n",
       "    <tr>\n",
       "      <th>0</th>\n",
       "      <td>0</td>\n",
       "      <td>Thompson</td>\n",
       "      <td>tube</td>\n",
       "      <td>7.00</td>\n",
       "      <td>3770.0</td>\n",
       "      <td>0.1754</td>\n",
       "      <td>NaN</td>\n",
       "      <td>10.8</td>\n",
       "      <td>432.0</td>\n",
       "      <td>3.6</td>\n",
       "    </tr>\n",
       "    <tr>\n",
       "      <th>1</th>\n",
       "      <td>1</td>\n",
       "      <td>Thompson</td>\n",
       "      <td>tube</td>\n",
       "      <td>NaN</td>\n",
       "      <td>6049.0</td>\n",
       "      <td>-0.0416</td>\n",
       "      <td>10.3</td>\n",
       "      <td>10.3</td>\n",
       "      <td>762.0</td>\n",
       "      <td>6.2</td>\n",
       "    </tr>\n",
       "    <tr>\n",
       "      <th>2</th>\n",
       "      <td>2</td>\n",
       "      <td>Thompson</td>\n",
       "      <td>NaN</td>\n",
       "      <td>13.79</td>\n",
       "      <td>2034.0</td>\n",
       "      <td>0.0335</td>\n",
       "      <td>7.7</td>\n",
       "      <td>7.7</td>\n",
       "      <td>457.0</td>\n",
       "      <td>2.5</td>\n",
       "    </tr>\n",
       "    <tr>\n",
       "      <th>3</th>\n",
       "      <td>3</td>\n",
       "      <td>Beus</td>\n",
       "      <td>annulus</td>\n",
       "      <td>13.79</td>\n",
       "      <td>3679.0</td>\n",
       "      <td>-0.0279</td>\n",
       "      <td>5.6</td>\n",
       "      <td>15.2</td>\n",
       "      <td>2134.0</td>\n",
       "      <td>3.0</td>\n",
       "    </tr>\n",
       "    <tr>\n",
       "      <th>4</th>\n",
       "      <td>4</td>\n",
       "      <td>NaN</td>\n",
       "      <td>tube</td>\n",
       "      <td>13.79</td>\n",
       "      <td>686.0</td>\n",
       "      <td>NaN</td>\n",
       "      <td>11.1</td>\n",
       "      <td>11.1</td>\n",
       "      <td>457.0</td>\n",
       "      <td>2.8</td>\n",
       "    </tr>\n",
       "  </tbody>\n",
       "</table>\n",
       "</div>"
      ],
      "text/plain": [
       "   id    author geometry  pressure [MPa]  mass_flux [kg/m2-s]  x_e_out [-]  \\\n",
       "0   0  Thompson     tube            7.00               3770.0       0.1754   \n",
       "1   1  Thompson     tube             NaN               6049.0      -0.0416   \n",
       "2   2  Thompson      NaN           13.79               2034.0       0.0335   \n",
       "3   3      Beus  annulus           13.79               3679.0      -0.0279   \n",
       "4   4       NaN     tube           13.79                686.0          NaN   \n",
       "\n",
       "   D_e [mm]  D_h [mm]  length [mm]  chf_exp [MW/m2]  \n",
       "0       NaN      10.8        432.0              3.6  \n",
       "1      10.3      10.3        762.0              6.2  \n",
       "2       7.7       7.7        457.0              2.5  \n",
       "3       5.6      15.2       2134.0              3.0  \n",
       "4      11.1      11.1        457.0              2.8  "
      ]
     },
     "execution_count": 2,
     "metadata": {},
     "output_type": "execute_result"
    }
   ],
   "source": [
    "df=pd.read_csv('/kaggle/input/playground-series-s3e15/data.csv')\n",
    "df.head()"
   ]
  },
  {
   "cell_type": "code",
   "execution_count": 3,
   "id": "c84f7de3",
   "metadata": {
    "execution": {
     "iopub.execute_input": "2023-05-26T06:35:43.178243Z",
     "iopub.status.busy": "2023-05-26T06:35:43.177869Z",
     "iopub.status.idle": "2023-05-26T06:35:43.184278Z",
     "shell.execute_reply": "2023-05-26T06:35:43.183090Z"
    },
    "papermill": {
     "duration": 0.015573,
     "end_time": "2023-05-26T06:35:43.186535",
     "exception": false,
     "start_time": "2023-05-26T06:35:43.170962",
     "status": "completed"
    },
    "tags": []
   },
   "outputs": [
    {
     "data": {
      "text/plain": [
       "Index(['id', 'author', 'geometry', 'pressure [MPa]', 'mass_flux [kg/m2-s]',\n",
       "       'x_e_out [-]', 'D_e [mm]', 'D_h [mm]', 'length [mm]',\n",
       "       'chf_exp [MW/m2]'],\n",
       "      dtype='object')"
      ]
     },
     "execution_count": 3,
     "metadata": {},
     "output_type": "execute_result"
    }
   ],
   "source": [
    "df.columns"
   ]
  },
  {
   "cell_type": "markdown",
   "id": "dd78a7ba",
   "metadata": {
    "papermill": {
     "duration": 0.005869,
     "end_time": "2023-05-26T06:35:43.198233",
     "exception": false,
     "start_time": "2023-05-26T06:35:43.192364",
     "status": "completed"
    },
    "tags": []
   },
   "source": [
    "finding count of total number of rows as well"
   ]
  },
  {
   "cell_type": "code",
   "execution_count": 4,
   "id": "8f973592",
   "metadata": {
    "execution": {
     "iopub.execute_input": "2023-05-26T06:35:43.214195Z",
     "iopub.status.busy": "2023-05-26T06:35:43.213798Z",
     "iopub.status.idle": "2023-05-26T06:35:43.220244Z",
     "shell.execute_reply": "2023-05-26T06:35:43.219127Z"
    },
    "papermill": {
     "duration": 0.017768,
     "end_time": "2023-05-26T06:35:43.222628",
     "exception": false,
     "start_time": "2023-05-26T06:35:43.204860",
     "status": "completed"
    },
    "tags": []
   },
   "outputs": [
    {
     "data": {
      "text/plain": [
       "31644"
      ]
     },
     "execution_count": 4,
     "metadata": {},
     "output_type": "execute_result"
    }
   ],
   "source": [
    "df.shape[0]"
   ]
  },
  {
   "cell_type": "code",
   "execution_count": 5,
   "id": "4a2d756c",
   "metadata": {
    "execution": {
     "iopub.execute_input": "2023-05-26T06:35:43.236215Z",
     "iopub.status.busy": "2023-05-26T06:35:43.235823Z",
     "iopub.status.idle": "2023-05-26T06:35:43.244677Z",
     "shell.execute_reply": "2023-05-26T06:35:43.243885Z"
    },
    "papermill": {
     "duration": 0.018489,
     "end_time": "2023-05-26T06:35:43.246908",
     "exception": false,
     "start_time": "2023-05-26T06:35:43.228419",
     "status": "completed"
    },
    "tags": []
   },
   "outputs": [
    {
     "data": {
      "text/plain": [
       "32.913032486411325"
      ]
     },
     "execution_count": 5,
     "metadata": {},
     "output_type": "execute_result"
    }
   ],
   "source": [
    "null_values=df['x_e_out [-]'].isnull().sum()\n",
    "count=df.shape[0]\n",
    "null_percentage=(null_values/count)*100\n",
    "null_percentage"
   ]
  },
  {
   "cell_type": "code",
   "execution_count": 6,
   "id": "8522599d",
   "metadata": {
    "execution": {
     "iopub.execute_input": "2023-05-26T06:35:43.261082Z",
     "iopub.status.busy": "2023-05-26T06:35:43.260416Z",
     "iopub.status.idle": "2023-05-26T06:35:43.282845Z",
     "shell.execute_reply": "2023-05-26T06:35:43.281732Z"
    },
    "papermill": {
     "duration": 0.032666,
     "end_time": "2023-05-26T06:35:43.285645",
     "exception": false,
     "start_time": "2023-05-26T06:35:43.252979",
     "status": "completed"
    },
    "tags": []
   },
   "outputs": [
    {
     "data": {
      "text/plain": [
       "id                         0\n",
       "author                  5024\n",
       "geometry                5500\n",
       "pressure [MPa]          4452\n",
       "mass_flux [kg/m2-s]     4791\n",
       "x_e_out [-]            10415\n",
       "D_e [mm]                5488\n",
       "D_h [mm]                4589\n",
       "length [mm]             4759\n",
       "chf_exp [MW/m2]            0\n",
       "dtype: int64"
      ]
     },
     "execution_count": 6,
     "metadata": {},
     "output_type": "execute_result"
    }
   ],
   "source": [
    "df.isnull().sum()"
   ]
  },
  {
   "cell_type": "code",
   "execution_count": 7,
   "id": "d02901fb",
   "metadata": {
    "execution": {
     "iopub.execute_input": "2023-05-26T06:35:43.299889Z",
     "iopub.status.busy": "2023-05-26T06:35:43.299519Z",
     "iopub.status.idle": "2023-05-26T06:35:43.351892Z",
     "shell.execute_reply": "2023-05-26T06:35:43.350825Z"
    },
    "papermill": {
     "duration": 0.062044,
     "end_time": "2023-05-26T06:35:43.354238",
     "exception": false,
     "start_time": "2023-05-26T06:35:43.292194",
     "status": "completed"
    },
    "tags": []
   },
   "outputs": [
    {
     "data": {
      "text/html": [
       "<div>\n",
       "<style scoped>\n",
       "    .dataframe tbody tr th:only-of-type {\n",
       "        vertical-align: middle;\n",
       "    }\n",
       "\n",
       "    .dataframe tbody tr th {\n",
       "        vertical-align: top;\n",
       "    }\n",
       "\n",
       "    .dataframe thead th {\n",
       "        text-align: right;\n",
       "    }\n",
       "</style>\n",
       "<table border=\"1\" class=\"dataframe\">\n",
       "  <thead>\n",
       "    <tr style=\"text-align: right;\">\n",
       "      <th></th>\n",
       "      <th>id</th>\n",
       "      <th>author</th>\n",
       "      <th>geometry</th>\n",
       "      <th>pressure [MPa]</th>\n",
       "      <th>mass_flux [kg/m2-s]</th>\n",
       "      <th>x_e_out [-]</th>\n",
       "      <th>D_e [mm]</th>\n",
       "      <th>D_h [mm]</th>\n",
       "      <th>length [mm]</th>\n",
       "      <th>chf_exp [MW/m2]</th>\n",
       "    </tr>\n",
       "  </thead>\n",
       "  <tbody>\n",
       "    <tr>\n",
       "      <th>0</th>\n",
       "      <td>0</td>\n",
       "      <td>Thompson</td>\n",
       "      <td>tube</td>\n",
       "      <td>7.00</td>\n",
       "      <td>3770.0</td>\n",
       "      <td>0.1754</td>\n",
       "      <td>NaN</td>\n",
       "      <td>10.8</td>\n",
       "      <td>432.0</td>\n",
       "      <td>3.6</td>\n",
       "    </tr>\n",
       "    <tr>\n",
       "      <th>1</th>\n",
       "      <td>1</td>\n",
       "      <td>Thompson</td>\n",
       "      <td>tube</td>\n",
       "      <td>NaN</td>\n",
       "      <td>6049.0</td>\n",
       "      <td>-0.0416</td>\n",
       "      <td>10.3</td>\n",
       "      <td>10.3</td>\n",
       "      <td>762.0</td>\n",
       "      <td>6.2</td>\n",
       "    </tr>\n",
       "    <tr>\n",
       "      <th>2</th>\n",
       "      <td>2</td>\n",
       "      <td>Thompson</td>\n",
       "      <td>NaN</td>\n",
       "      <td>13.79</td>\n",
       "      <td>2034.0</td>\n",
       "      <td>0.0335</td>\n",
       "      <td>7.7</td>\n",
       "      <td>7.7</td>\n",
       "      <td>457.0</td>\n",
       "      <td>2.5</td>\n",
       "    </tr>\n",
       "    <tr>\n",
       "      <th>3</th>\n",
       "      <td>3</td>\n",
       "      <td>Beus</td>\n",
       "      <td>annulus</td>\n",
       "      <td>13.79</td>\n",
       "      <td>3679.0</td>\n",
       "      <td>-0.0279</td>\n",
       "      <td>5.6</td>\n",
       "      <td>15.2</td>\n",
       "      <td>2134.0</td>\n",
       "      <td>3.0</td>\n",
       "    </tr>\n",
       "    <tr>\n",
       "      <th>4</th>\n",
       "      <td>4</td>\n",
       "      <td>NaN</td>\n",
       "      <td>tube</td>\n",
       "      <td>13.79</td>\n",
       "      <td>686.0</td>\n",
       "      <td>NaN</td>\n",
       "      <td>11.1</td>\n",
       "      <td>11.1</td>\n",
       "      <td>457.0</td>\n",
       "      <td>2.8</td>\n",
       "    </tr>\n",
       "  </tbody>\n",
       "</table>\n",
       "</div>"
      ],
      "text/plain": [
       "   id    author geometry  pressure [MPa]  mass_flux [kg/m2-s]  x_e_out [-]  \\\n",
       "0   0  Thompson     tube            7.00               3770.0       0.1754   \n",
       "1   1  Thompson     tube             NaN               6049.0      -0.0416   \n",
       "2   2  Thompson      NaN           13.79               2034.0       0.0335   \n",
       "3   3      Beus  annulus           13.79               3679.0      -0.0279   \n",
       "4   4       NaN     tube           13.79                686.0          NaN   \n",
       "\n",
       "   D_e [mm]  D_h [mm]  length [mm]  chf_exp [MW/m2]  \n",
       "0       NaN      10.8        432.0              3.6  \n",
       "1      10.3      10.3        762.0              6.2  \n",
       "2       7.7       7.7        457.0              2.5  \n",
       "3       5.6      15.2       2134.0              3.0  \n",
       "4      11.1      11.1        457.0              2.8  "
      ]
     },
     "execution_count": 7,
     "metadata": {},
     "output_type": "execute_result"
    }
   ],
   "source": [
    "df1=pd.read_csv('/kaggle/input/playground-series-s3e15/data.csv')\n",
    "df1.head()"
   ]
  },
  {
   "cell_type": "code",
   "execution_count": 8,
   "id": "7284e513",
   "metadata": {
    "execution": {
     "iopub.execute_input": "2023-05-26T06:35:43.368545Z",
     "iopub.status.busy": "2023-05-26T06:35:43.368173Z",
     "iopub.status.idle": "2023-05-26T06:35:43.375115Z",
     "shell.execute_reply": "2023-05-26T06:35:43.374032Z"
    },
    "papermill": {
     "duration": 0.017038,
     "end_time": "2023-05-26T06:35:43.377663",
     "exception": false,
     "start_time": "2023-05-26T06:35:43.360625",
     "status": "completed"
    },
    "tags": []
   },
   "outputs": [
    {
     "data": {
      "text/plain": [
       "Index(['id', 'author', 'geometry', 'pressure [MPa]', 'mass_flux [kg/m2-s]',\n",
       "       'x_e_out [-]', 'D_e [mm]', 'D_h [mm]', 'length [mm]',\n",
       "       'chf_exp [MW/m2]'],\n",
       "      dtype='object')"
      ]
     },
     "execution_count": 8,
     "metadata": {},
     "output_type": "execute_result"
    }
   ],
   "source": [
    "df1.columns"
   ]
  },
  {
   "cell_type": "markdown",
   "id": "a38886f5",
   "metadata": {
    "papermill": {
     "duration": 0.006001,
     "end_time": "2023-05-26T06:35:43.390537",
     "exception": false,
     "start_time": "2023-05-26T06:35:43.384536",
     "status": "completed"
    },
    "tags": []
   },
   "source": [
    "filling the entire data csv with its median values "
   ]
  },
  {
   "cell_type": "code",
   "execution_count": 9,
   "id": "b6987a02",
   "metadata": {
    "execution": {
     "iopub.execute_input": "2023-05-26T06:35:43.405222Z",
     "iopub.status.busy": "2023-05-26T06:35:43.404850Z",
     "iopub.status.idle": "2023-05-26T06:35:43.432704Z",
     "shell.execute_reply": "2023-05-26T06:35:43.431786Z"
    },
    "papermill": {
     "duration": 0.037989,
     "end_time": "2023-05-26T06:35:43.434746",
     "exception": false,
     "start_time": "2023-05-26T06:35:43.396757",
     "status": "completed"
    },
    "tags": []
   },
   "outputs": [
    {
     "name": "stderr",
     "output_type": "stream",
     "text": [
      "/tmp/ipykernel_20/1680852710.py:1: FutureWarning: The default value of numeric_only in DataFrame.mean is deprecated. In a future version, it will default to False. In addition, specifying 'numeric_only=None' is deprecated. Select only valid columns or specify the value of numeric_only to silence this warning.\n",
      "  df_mean=df.fillna(df.mean(),inplace=False)\n"
     ]
    }
   ],
   "source": [
    "df_mean=df.fillna(df.mean(),inplace=False)"
   ]
  },
  {
   "cell_type": "code",
   "execution_count": 10,
   "id": "3409eca1",
   "metadata": {
    "execution": {
     "iopub.execute_input": "2023-05-26T06:35:43.449632Z",
     "iopub.status.busy": "2023-05-26T06:35:43.448980Z",
     "iopub.status.idle": "2023-05-26T06:35:43.467725Z",
     "shell.execute_reply": "2023-05-26T06:35:43.466692Z"
    },
    "papermill": {
     "duration": 0.02915,
     "end_time": "2023-05-26T06:35:43.470313",
     "exception": false,
     "start_time": "2023-05-26T06:35:43.441163",
     "status": "completed"
    },
    "tags": []
   },
   "outputs": [
    {
     "data": {
      "text/plain": [
       "id                        0\n",
       "author                 5024\n",
       "geometry               5500\n",
       "pressure [MPa]            0\n",
       "mass_flux [kg/m2-s]       0\n",
       "x_e_out [-]               0\n",
       "D_e [mm]                  0\n",
       "D_h [mm]                  0\n",
       "length [mm]               0\n",
       "chf_exp [MW/m2]           0\n",
       "dtype: int64"
      ]
     },
     "execution_count": 10,
     "metadata": {},
     "output_type": "execute_result"
    }
   ],
   "source": [
    "df_mean.isna().sum()"
   ]
  },
  {
   "cell_type": "code",
   "execution_count": 11,
   "id": "2a45656f",
   "metadata": {
    "execution": {
     "iopub.execute_input": "2023-05-26T06:35:43.485366Z",
     "iopub.status.busy": "2023-05-26T06:35:43.484976Z",
     "iopub.status.idle": "2023-05-26T06:35:43.506220Z",
     "shell.execute_reply": "2023-05-26T06:35:43.504988Z"
    },
    "papermill": {
     "duration": 0.031656,
     "end_time": "2023-05-26T06:35:43.508590",
     "exception": false,
     "start_time": "2023-05-26T06:35:43.476934",
     "status": "completed"
    },
    "tags": []
   },
   "outputs": [
    {
     "data": {
      "text/html": [
       "<div>\n",
       "<style scoped>\n",
       "    .dataframe tbody tr th:only-of-type {\n",
       "        vertical-align: middle;\n",
       "    }\n",
       "\n",
       "    .dataframe tbody tr th {\n",
       "        vertical-align: top;\n",
       "    }\n",
       "\n",
       "    .dataframe thead th {\n",
       "        text-align: right;\n",
       "    }\n",
       "</style>\n",
       "<table border=\"1\" class=\"dataframe\">\n",
       "  <thead>\n",
       "    <tr style=\"text-align: right;\">\n",
       "      <th></th>\n",
       "      <th>id</th>\n",
       "      <th>x_e_out [-]</th>\n",
       "    </tr>\n",
       "  </thead>\n",
       "  <tbody>\n",
       "    <tr>\n",
       "      <th>0</th>\n",
       "      <td>4</td>\n",
       "      <td>0.0</td>\n",
       "    </tr>\n",
       "    <tr>\n",
       "      <th>1</th>\n",
       "      <td>7</td>\n",
       "      <td>0.0</td>\n",
       "    </tr>\n",
       "    <tr>\n",
       "      <th>2</th>\n",
       "      <td>10</td>\n",
       "      <td>0.0</td>\n",
       "    </tr>\n",
       "    <tr>\n",
       "      <th>3</th>\n",
       "      <td>12</td>\n",
       "      <td>0.0</td>\n",
       "    </tr>\n",
       "    <tr>\n",
       "      <th>4</th>\n",
       "      <td>23</td>\n",
       "      <td>0.0</td>\n",
       "    </tr>\n",
       "    <tr>\n",
       "      <th>...</th>\n",
       "      <td>...</td>\n",
       "      <td>...</td>\n",
       "    </tr>\n",
       "    <tr>\n",
       "      <th>10410</th>\n",
       "      <td>31633</td>\n",
       "      <td>0.0</td>\n",
       "    </tr>\n",
       "    <tr>\n",
       "      <th>10411</th>\n",
       "      <td>31634</td>\n",
       "      <td>0.0</td>\n",
       "    </tr>\n",
       "    <tr>\n",
       "      <th>10412</th>\n",
       "      <td>31637</td>\n",
       "      <td>0.0</td>\n",
       "    </tr>\n",
       "    <tr>\n",
       "      <th>10413</th>\n",
       "      <td>31640</td>\n",
       "      <td>0.0</td>\n",
       "    </tr>\n",
       "    <tr>\n",
       "      <th>10414</th>\n",
       "      <td>31642</td>\n",
       "      <td>0.0</td>\n",
       "    </tr>\n",
       "  </tbody>\n",
       "</table>\n",
       "<p>10415 rows × 2 columns</p>\n",
       "</div>"
      ],
      "text/plain": [
       "          id  x_e_out [-]\n",
       "0          4          0.0\n",
       "1          7          0.0\n",
       "2         10          0.0\n",
       "3         12          0.0\n",
       "4         23          0.0\n",
       "...      ...          ...\n",
       "10410  31633          0.0\n",
       "10411  31634          0.0\n",
       "10412  31637          0.0\n",
       "10413  31640          0.0\n",
       "10414  31642          0.0\n",
       "\n",
       "[10415 rows x 2 columns]"
      ]
     },
     "execution_count": 11,
     "metadata": {},
     "output_type": "execute_result"
    }
   ],
   "source": [
    "sub=pd.read_csv('/kaggle/input/playground-series-s3e15/sample_submission.csv')\n",
    "sub"
   ]
  },
  {
   "cell_type": "markdown",
   "id": "734b3637",
   "metadata": {
    "papermill": {
     "duration": 0.006389,
     "end_time": "2023-05-26T06:35:43.521830",
     "exception": false,
     "start_time": "2023-05-26T06:35:43.515441",
     "status": "completed"
    },
    "tags": []
   },
   "source": [
    "selecting all the rows from the sample submission that we need to select from our predicted imputed values"
   ]
  },
  {
   "cell_type": "code",
   "execution_count": 12,
   "id": "a865ade0",
   "metadata": {
    "execution": {
     "iopub.execute_input": "2023-05-26T06:35:43.537105Z",
     "iopub.status.busy": "2023-05-26T06:35:43.536421Z",
     "iopub.status.idle": "2023-05-26T06:35:43.546953Z",
     "shell.execute_reply": "2023-05-26T06:35:43.545928Z"
    },
    "papermill": {
     "duration": 0.021552,
     "end_time": "2023-05-26T06:35:43.549976",
     "exception": false,
     "start_time": "2023-05-26T06:35:43.528424",
     "status": "completed"
    },
    "tags": []
   },
   "outputs": [],
   "source": [
    "y_pred = df_mean.loc[df_mean['id'].isin(sub['id']), 'x_e_out [-]']"
   ]
  },
  {
   "cell_type": "code",
   "execution_count": 13,
   "id": "297303c0",
   "metadata": {
    "execution": {
     "iopub.execute_input": "2023-05-26T06:35:43.565900Z",
     "iopub.status.busy": "2023-05-26T06:35:43.565144Z",
     "iopub.status.idle": "2023-05-26T06:35:43.573647Z",
     "shell.execute_reply": "2023-05-26T06:35:43.572608Z"
    },
    "papermill": {
     "duration": 0.018963,
     "end_time": "2023-05-26T06:35:43.575877",
     "exception": false,
     "start_time": "2023-05-26T06:35:43.556914",
     "status": "completed"
    },
    "tags": []
   },
   "outputs": [
    {
     "data": {
      "text/plain": [
       "4       -0.000453\n",
       "7       -0.000453\n",
       "10      -0.000453\n",
       "12      -0.000453\n",
       "23      -0.000453\n",
       "           ...   \n",
       "31633   -0.000453\n",
       "31634   -0.000453\n",
       "31637   -0.000453\n",
       "31640   -0.000453\n",
       "31642   -0.000453\n",
       "Name: x_e_out [-], Length: 10415, dtype: float64"
      ]
     },
     "execution_count": 13,
     "metadata": {},
     "output_type": "execute_result"
    }
   ],
   "source": [
    "y_pred"
   ]
  },
  {
   "cell_type": "markdown",
   "id": "958af351",
   "metadata": {
    "papermill": {
     "duration": 0.006758,
     "end_time": "2023-05-26T06:35:43.589520",
     "exception": false,
     "start_time": "2023-05-26T06:35:43.582762",
     "status": "completed"
    },
    "tags": []
   },
   "source": [
    "creating a submission accordingly"
   ]
  },
  {
   "cell_type": "code",
   "execution_count": 14,
   "id": "6d82d0ef",
   "metadata": {
    "execution": {
     "iopub.execute_input": "2023-05-26T06:35:43.605268Z",
     "iopub.status.busy": "2023-05-26T06:35:43.604872Z",
     "iopub.status.idle": "2023-05-26T06:35:43.620350Z",
     "shell.execute_reply": "2023-05-26T06:35:43.619101Z"
    },
    "papermill": {
     "duration": 0.026137,
     "end_time": "2023-05-26T06:35:43.622757",
     "exception": false,
     "start_time": "2023-05-26T06:35:43.596620",
     "status": "completed"
    },
    "tags": []
   },
   "outputs": [
    {
     "data": {
      "text/html": [
       "<div>\n",
       "<style scoped>\n",
       "    .dataframe tbody tr th:only-of-type {\n",
       "        vertical-align: middle;\n",
       "    }\n",
       "\n",
       "    .dataframe tbody tr th {\n",
       "        vertical-align: top;\n",
       "    }\n",
       "\n",
       "    .dataframe thead th {\n",
       "        text-align: right;\n",
       "    }\n",
       "</style>\n",
       "<table border=\"1\" class=\"dataframe\">\n",
       "  <thead>\n",
       "    <tr style=\"text-align: right;\">\n",
       "      <th></th>\n",
       "      <th>x_e_out [-]</th>\n",
       "    </tr>\n",
       "    <tr>\n",
       "      <th>id</th>\n",
       "      <th></th>\n",
       "    </tr>\n",
       "  </thead>\n",
       "  <tbody>\n",
       "    <tr>\n",
       "      <th>4</th>\n",
       "      <td>0.0</td>\n",
       "    </tr>\n",
       "    <tr>\n",
       "      <th>7</th>\n",
       "      <td>0.0</td>\n",
       "    </tr>\n",
       "    <tr>\n",
       "      <th>10</th>\n",
       "      <td>0.0</td>\n",
       "    </tr>\n",
       "    <tr>\n",
       "      <th>12</th>\n",
       "      <td>0.0</td>\n",
       "    </tr>\n",
       "    <tr>\n",
       "      <th>23</th>\n",
       "      <td>0.0</td>\n",
       "    </tr>\n",
       "    <tr>\n",
       "      <th>...</th>\n",
       "      <td>...</td>\n",
       "    </tr>\n",
       "    <tr>\n",
       "      <th>31633</th>\n",
       "      <td>0.0</td>\n",
       "    </tr>\n",
       "    <tr>\n",
       "      <th>31634</th>\n",
       "      <td>0.0</td>\n",
       "    </tr>\n",
       "    <tr>\n",
       "      <th>31637</th>\n",
       "      <td>0.0</td>\n",
       "    </tr>\n",
       "    <tr>\n",
       "      <th>31640</th>\n",
       "      <td>0.0</td>\n",
       "    </tr>\n",
       "    <tr>\n",
       "      <th>31642</th>\n",
       "      <td>0.0</td>\n",
       "    </tr>\n",
       "  </tbody>\n",
       "</table>\n",
       "<p>10415 rows × 1 columns</p>\n",
       "</div>"
      ],
      "text/plain": [
       "       x_e_out [-]\n",
       "id                \n",
       "4              0.0\n",
       "7              0.0\n",
       "10             0.0\n",
       "12             0.0\n",
       "23             0.0\n",
       "...            ...\n",
       "31633          0.0\n",
       "31634          0.0\n",
       "31637          0.0\n",
       "31640          0.0\n",
       "31642          0.0\n",
       "\n",
       "[10415 rows x 1 columns]"
      ]
     },
     "execution_count": 14,
     "metadata": {},
     "output_type": "execute_result"
    }
   ],
   "source": [
    "sub=sub.set_index(\"id\")\n",
    "sub"
   ]
  },
  {
   "cell_type": "code",
   "execution_count": 15,
   "id": "506ae696",
   "metadata": {
    "execution": {
     "iopub.execute_input": "2023-05-26T06:35:43.639458Z",
     "iopub.status.busy": "2023-05-26T06:35:43.639080Z",
     "iopub.status.idle": "2023-05-26T06:35:43.651395Z",
     "shell.execute_reply": "2023-05-26T06:35:43.650229Z"
    },
    "papermill": {
     "duration": 0.023209,
     "end_time": "2023-05-26T06:35:43.653790",
     "exception": false,
     "start_time": "2023-05-26T06:35:43.630581",
     "status": "completed"
    },
    "tags": []
   },
   "outputs": [
    {
     "data": {
      "text/html": [
       "<div>\n",
       "<style scoped>\n",
       "    .dataframe tbody tr th:only-of-type {\n",
       "        vertical-align: middle;\n",
       "    }\n",
       "\n",
       "    .dataframe tbody tr th {\n",
       "        vertical-align: top;\n",
       "    }\n",
       "\n",
       "    .dataframe thead th {\n",
       "        text-align: right;\n",
       "    }\n",
       "</style>\n",
       "<table border=\"1\" class=\"dataframe\">\n",
       "  <thead>\n",
       "    <tr style=\"text-align: right;\">\n",
       "      <th></th>\n",
       "      <th>x_e_out [-]</th>\n",
       "    </tr>\n",
       "    <tr>\n",
       "      <th>id</th>\n",
       "      <th></th>\n",
       "    </tr>\n",
       "  </thead>\n",
       "  <tbody>\n",
       "    <tr>\n",
       "      <th>4</th>\n",
       "      <td>-0.000453</td>\n",
       "    </tr>\n",
       "    <tr>\n",
       "      <th>7</th>\n",
       "      <td>-0.000453</td>\n",
       "    </tr>\n",
       "    <tr>\n",
       "      <th>10</th>\n",
       "      <td>-0.000453</td>\n",
       "    </tr>\n",
       "    <tr>\n",
       "      <th>12</th>\n",
       "      <td>-0.000453</td>\n",
       "    </tr>\n",
       "    <tr>\n",
       "      <th>23</th>\n",
       "      <td>-0.000453</td>\n",
       "    </tr>\n",
       "    <tr>\n",
       "      <th>...</th>\n",
       "      <td>...</td>\n",
       "    </tr>\n",
       "    <tr>\n",
       "      <th>31633</th>\n",
       "      <td>-0.000453</td>\n",
       "    </tr>\n",
       "    <tr>\n",
       "      <th>31634</th>\n",
       "      <td>-0.000453</td>\n",
       "    </tr>\n",
       "    <tr>\n",
       "      <th>31637</th>\n",
       "      <td>-0.000453</td>\n",
       "    </tr>\n",
       "    <tr>\n",
       "      <th>31640</th>\n",
       "      <td>-0.000453</td>\n",
       "    </tr>\n",
       "    <tr>\n",
       "      <th>31642</th>\n",
       "      <td>-0.000453</td>\n",
       "    </tr>\n",
       "  </tbody>\n",
       "</table>\n",
       "<p>10415 rows × 1 columns</p>\n",
       "</div>"
      ],
      "text/plain": [
       "       x_e_out [-]\n",
       "id                \n",
       "4        -0.000453\n",
       "7        -0.000453\n",
       "10       -0.000453\n",
       "12       -0.000453\n",
       "23       -0.000453\n",
       "...            ...\n",
       "31633    -0.000453\n",
       "31634    -0.000453\n",
       "31637    -0.000453\n",
       "31640    -0.000453\n",
       "31642    -0.000453\n",
       "\n",
       "[10415 rows x 1 columns]"
      ]
     },
     "execution_count": 15,
     "metadata": {},
     "output_type": "execute_result"
    }
   ],
   "source": [
    "sub['x_e_out [-]']=y_pred\n",
    "sub"
   ]
  },
  {
   "cell_type": "markdown",
   "id": "70638d33",
   "metadata": {
    "papermill": {
     "duration": 0.006936,
     "end_time": "2023-05-26T06:35:43.668202",
     "exception": false,
     "start_time": "2023-05-26T06:35:43.661266",
     "status": "completed"
    },
    "tags": []
   },
   "source": []
  },
  {
   "cell_type": "code",
   "execution_count": 16,
   "id": "226cbf39",
   "metadata": {
    "execution": {
     "iopub.execute_input": "2023-05-26T06:35:43.684623Z",
     "iopub.status.busy": "2023-05-26T06:35:43.683863Z",
     "iopub.status.idle": "2023-05-26T06:35:43.692273Z",
     "shell.execute_reply": "2023-05-26T06:35:43.691257Z"
    },
    "papermill": {
     "duration": 0.018883,
     "end_time": "2023-05-26T06:35:43.694312",
     "exception": false,
     "start_time": "2023-05-26T06:35:43.675429",
     "status": "completed"
    },
    "tags": []
   },
   "outputs": [
    {
     "data": {
      "text/plain": [
       "x_e_out [-]    0\n",
       "dtype: int64"
      ]
     },
     "execution_count": 16,
     "metadata": {},
     "output_type": "execute_result"
    }
   ],
   "source": [
    "sub.isnull().sum()"
   ]
  },
  {
   "cell_type": "code",
   "execution_count": 17,
   "id": "b1e4b1fa",
   "metadata": {
    "execution": {
     "iopub.execute_input": "2023-05-26T06:35:43.711401Z",
     "iopub.status.busy": "2023-05-26T06:35:43.710688Z",
     "iopub.status.idle": "2023-05-26T06:35:43.751448Z",
     "shell.execute_reply": "2023-05-26T06:35:43.750462Z"
    },
    "papermill": {
     "duration": 0.052083,
     "end_time": "2023-05-26T06:35:43.753880",
     "exception": false,
     "start_time": "2023-05-26T06:35:43.701797",
     "status": "completed"
    },
    "tags": []
   },
   "outputs": [],
   "source": [
    "sub.to_csv(\"submission.csv\")"
   ]
  },
  {
   "cell_type": "code",
   "execution_count": null,
   "id": "2794a43b",
   "metadata": {
    "papermill": {
     "duration": 0.007021,
     "end_time": "2023-05-26T06:35:43.768346",
     "exception": false,
     "start_time": "2023-05-26T06:35:43.761325",
     "status": "completed"
    },
    "tags": []
   },
   "outputs": [],
   "source": []
  }
 ],
 "metadata": {
  "kernelspec": {
   "display_name": "Python 3",
   "language": "python",
   "name": "python3"
  },
  "language_info": {
   "codemirror_mode": {
    "name": "ipython",
    "version": 3
   },
   "file_extension": ".py",
   "mimetype": "text/x-python",
   "name": "python",
   "nbconvert_exporter": "python",
   "pygments_lexer": "ipython3",
   "version": "3.10.10"
  },
  "papermill": {
   "default_parameters": {},
   "duration": 12.391645,
   "end_time": "2023-05-26T06:35:44.598254",
   "environment_variables": {},
   "exception": null,
   "input_path": "__notebook__.ipynb",
   "output_path": "__notebook__.ipynb",
   "parameters": {},
   "start_time": "2023-05-26T06:35:32.206609",
   "version": "2.4.0"
  }
 },
 "nbformat": 4,
 "nbformat_minor": 5
}
