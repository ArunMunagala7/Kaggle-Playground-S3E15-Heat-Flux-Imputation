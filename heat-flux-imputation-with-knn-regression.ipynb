{
 "cells": [
  {
   "cell_type": "code",
   "execution_count": 1,
   "id": "016ab204",
   "metadata": {
    "_cell_guid": "b1076dfc-b9ad-4769-8c92-a6c4dae69d19",
    "_uuid": "8f2839f25d086af736a60e9eeb907d3b93b6e0e5",
    "execution": {
     "iopub.execute_input": "2023-05-26T08:20:35.154757Z",
     "iopub.status.busy": "2023-05-26T08:20:35.154023Z",
     "iopub.status.idle": "2023-05-26T08:20:35.179954Z",
     "shell.execute_reply": "2023-05-26T08:20:35.178870Z"
    },
    "papermill": {
     "duration": 0.045148,
     "end_time": "2023-05-26T08:20:35.183991",
     "exception": false,
     "start_time": "2023-05-26T08:20:35.138843",
     "status": "completed"
    },
    "tags": []
   },
   "outputs": [
    {
     "name": "stdout",
     "output_type": "stream",
     "text": [
      "/kaggle/input/playground-series-s3e15/sample_submission.csv\n",
      "/kaggle/input/playground-series-s3e15/data.csv\n",
      "/kaggle/input/predicting-heat-flux/Data_CHF_Zhao_2020_ATE.csv\n"
     ]
    }
   ],
   "source": [
    "# This Python 3 environment comes with many helpful analytics libraries installed\n",
    "# It is defined by the kaggle/python Docker image: https://github.com/kaggle/docker-python\n",
    "# For example, here's several helpful packages to load\n",
    "\n",
    "import numpy as np # linear algebra\n",
    "import pandas as pd # data processing, CSV file I/O (e.g. pd.read_csv)\n",
    "\n",
    "# Input data files are available in the read-only \"../input/\" directory\n",
    "# For example, running this (by clicking run or pressing Shift+Enter) will list all files under the input directory\n",
    "\n",
    "import os\n",
    "for dirname, _, filenames in os.walk('/kaggle/input'):\n",
    "    for filename in filenames:\n",
    "        print(os.path.join(dirname, filename))\n",
    "\n",
    "# You can write up to 20GB to the current directory (/kaggle/working/) that gets preserved as output when you create a version using \"Save & Run All\" \n",
    "# You can also write temporary files to /kaggle/temp/, but they won't be saved outside of the current session"
   ]
  },
  {
   "cell_type": "code",
   "execution_count": 2,
   "id": "028ba457",
   "metadata": {
    "execution": {
     "iopub.execute_input": "2023-05-26T08:20:35.209264Z",
     "iopub.status.busy": "2023-05-26T08:20:35.208170Z",
     "iopub.status.idle": "2023-05-26T08:20:35.320650Z",
     "shell.execute_reply": "2023-05-26T08:20:35.319496Z"
    },
    "papermill": {
     "duration": 0.127799,
     "end_time": "2023-05-26T08:20:35.323316",
     "exception": false,
     "start_time": "2023-05-26T08:20:35.195517",
     "status": "completed"
    },
    "tags": []
   },
   "outputs": [
    {
     "data": {
      "text/html": [
       "<div>\n",
       "<style scoped>\n",
       "    .dataframe tbody tr th:only-of-type {\n",
       "        vertical-align: middle;\n",
       "    }\n",
       "\n",
       "    .dataframe tbody tr th {\n",
       "        vertical-align: top;\n",
       "    }\n",
       "\n",
       "    .dataframe thead th {\n",
       "        text-align: right;\n",
       "    }\n",
       "</style>\n",
       "<table border=\"1\" class=\"dataframe\">\n",
       "  <thead>\n",
       "    <tr style=\"text-align: right;\">\n",
       "      <th></th>\n",
       "      <th>id</th>\n",
       "      <th>author</th>\n",
       "      <th>geometry</th>\n",
       "      <th>pressure [MPa]</th>\n",
       "      <th>mass_flux [kg/m2-s]</th>\n",
       "      <th>x_e_out [-]</th>\n",
       "      <th>D_e [mm]</th>\n",
       "      <th>D_h [mm]</th>\n",
       "      <th>length [mm]</th>\n",
       "      <th>chf_exp [MW/m2]</th>\n",
       "    </tr>\n",
       "  </thead>\n",
       "  <tbody>\n",
       "    <tr>\n",
       "      <th>0</th>\n",
       "      <td>0</td>\n",
       "      <td>Thompson</td>\n",
       "      <td>tube</td>\n",
       "      <td>7.00</td>\n",
       "      <td>3770.0</td>\n",
       "      <td>0.1754</td>\n",
       "      <td>NaN</td>\n",
       "      <td>10.8</td>\n",
       "      <td>432.0</td>\n",
       "      <td>3.6</td>\n",
       "    </tr>\n",
       "    <tr>\n",
       "      <th>1</th>\n",
       "      <td>1</td>\n",
       "      <td>Thompson</td>\n",
       "      <td>tube</td>\n",
       "      <td>NaN</td>\n",
       "      <td>6049.0</td>\n",
       "      <td>-0.0416</td>\n",
       "      <td>10.3</td>\n",
       "      <td>10.3</td>\n",
       "      <td>762.0</td>\n",
       "      <td>6.2</td>\n",
       "    </tr>\n",
       "    <tr>\n",
       "      <th>2</th>\n",
       "      <td>2</td>\n",
       "      <td>Thompson</td>\n",
       "      <td>NaN</td>\n",
       "      <td>13.79</td>\n",
       "      <td>2034.0</td>\n",
       "      <td>0.0335</td>\n",
       "      <td>7.7</td>\n",
       "      <td>7.7</td>\n",
       "      <td>457.0</td>\n",
       "      <td>2.5</td>\n",
       "    </tr>\n",
       "    <tr>\n",
       "      <th>3</th>\n",
       "      <td>3</td>\n",
       "      <td>Beus</td>\n",
       "      <td>annulus</td>\n",
       "      <td>13.79</td>\n",
       "      <td>3679.0</td>\n",
       "      <td>-0.0279</td>\n",
       "      <td>5.6</td>\n",
       "      <td>15.2</td>\n",
       "      <td>2134.0</td>\n",
       "      <td>3.0</td>\n",
       "    </tr>\n",
       "    <tr>\n",
       "      <th>4</th>\n",
       "      <td>4</td>\n",
       "      <td>NaN</td>\n",
       "      <td>tube</td>\n",
       "      <td>13.79</td>\n",
       "      <td>686.0</td>\n",
       "      <td>NaN</td>\n",
       "      <td>11.1</td>\n",
       "      <td>11.1</td>\n",
       "      <td>457.0</td>\n",
       "      <td>2.8</td>\n",
       "    </tr>\n",
       "  </tbody>\n",
       "</table>\n",
       "</div>"
      ],
      "text/plain": [
       "   id    author geometry  pressure [MPa]  mass_flux [kg/m2-s]  x_e_out [-]  \\\n",
       "0   0  Thompson     tube            7.00               3770.0       0.1754   \n",
       "1   1  Thompson     tube             NaN               6049.0      -0.0416   \n",
       "2   2  Thompson      NaN           13.79               2034.0       0.0335   \n",
       "3   3      Beus  annulus           13.79               3679.0      -0.0279   \n",
       "4   4       NaN     tube           13.79                686.0          NaN   \n",
       "\n",
       "   D_e [mm]  D_h [mm]  length [mm]  chf_exp [MW/m2]  \n",
       "0       NaN      10.8        432.0              3.6  \n",
       "1      10.3      10.3        762.0              6.2  \n",
       "2       7.7       7.7        457.0              2.5  \n",
       "3       5.6      15.2       2134.0              3.0  \n",
       "4      11.1      11.1        457.0              2.8  "
      ]
     },
     "execution_count": 2,
     "metadata": {},
     "output_type": "execute_result"
    }
   ],
   "source": [
    "df=pd.read_csv('/kaggle/input/playground-series-s3e15/data.csv')\n",
    "df.head()"
   ]
  },
  {
   "cell_type": "code",
   "execution_count": 3,
   "id": "ef03f678",
   "metadata": {
    "execution": {
     "iopub.execute_input": "2023-05-26T08:20:35.347895Z",
     "iopub.status.busy": "2023-05-26T08:20:35.347464Z",
     "iopub.status.idle": "2023-05-26T08:20:35.355145Z",
     "shell.execute_reply": "2023-05-26T08:20:35.353905Z"
    },
    "papermill": {
     "duration": 0.023378,
     "end_time": "2023-05-26T08:20:35.357982",
     "exception": false,
     "start_time": "2023-05-26T08:20:35.334604",
     "status": "completed"
    },
    "tags": []
   },
   "outputs": [
    {
     "data": {
      "text/plain": [
       "Index(['id', 'author', 'geometry', 'pressure [MPa]', 'mass_flux [kg/m2-s]',\n",
       "       'x_e_out [-]', 'D_e [mm]', 'D_h [mm]', 'length [mm]',\n",
       "       'chf_exp [MW/m2]'],\n",
       "      dtype='object')"
      ]
     },
     "execution_count": 3,
     "metadata": {},
     "output_type": "execute_result"
    }
   ],
   "source": [
    "df.columns"
   ]
  },
  {
   "cell_type": "markdown",
   "id": "ca34115e",
   "metadata": {
    "papermill": {
     "duration": 0.011163,
     "end_time": "2023-05-26T08:20:35.380485",
     "exception": false,
     "start_time": "2023-05-26T08:20:35.369322",
     "status": "completed"
    },
    "tags": []
   },
   "source": [
    "finding count of total number of rows as well"
   ]
  },
  {
   "cell_type": "code",
   "execution_count": 4,
   "id": "5a29ab33",
   "metadata": {
    "execution": {
     "iopub.execute_input": "2023-05-26T08:20:35.404998Z",
     "iopub.status.busy": "2023-05-26T08:20:35.404618Z",
     "iopub.status.idle": "2023-05-26T08:20:35.411187Z",
     "shell.execute_reply": "2023-05-26T08:20:35.410088Z"
    },
    "papermill": {
     "duration": 0.021732,
     "end_time": "2023-05-26T08:20:35.413720",
     "exception": false,
     "start_time": "2023-05-26T08:20:35.391988",
     "status": "completed"
    },
    "tags": []
   },
   "outputs": [
    {
     "data": {
      "text/plain": [
       "31644"
      ]
     },
     "execution_count": 4,
     "metadata": {},
     "output_type": "execute_result"
    }
   ],
   "source": [
    "df.shape[0]"
   ]
  },
  {
   "cell_type": "code",
   "execution_count": 5,
   "id": "35671004",
   "metadata": {
    "execution": {
     "iopub.execute_input": "2023-05-26T08:20:35.438404Z",
     "iopub.status.busy": "2023-05-26T08:20:35.438017Z",
     "iopub.status.idle": "2023-05-26T08:20:35.447882Z",
     "shell.execute_reply": "2023-05-26T08:20:35.446740Z"
    },
    "papermill": {
     "duration": 0.025457,
     "end_time": "2023-05-26T08:20:35.450549",
     "exception": false,
     "start_time": "2023-05-26T08:20:35.425092",
     "status": "completed"
    },
    "tags": []
   },
   "outputs": [
    {
     "data": {
      "text/plain": [
       "32.913032486411325"
      ]
     },
     "execution_count": 5,
     "metadata": {},
     "output_type": "execute_result"
    }
   ],
   "source": [
    "null_values=df['x_e_out [-]'].isnull().sum()\n",
    "count=df.shape[0]\n",
    "null_percentage=(null_values/count)*100\n",
    "null_percentage"
   ]
  },
  {
   "cell_type": "markdown",
   "id": "83c6ffe1",
   "metadata": {
    "papermill": {
     "duration": 0.011307,
     "end_time": "2023-05-26T08:20:35.473464",
     "exception": false,
     "start_time": "2023-05-26T08:20:35.462157",
     "status": "completed"
    },
    "tags": []
   },
   "source": [
    "looking out for outliers via box plot detection"
   ]
  },
  {
   "cell_type": "code",
   "execution_count": 6,
   "id": "2f6d16a1",
   "metadata": {
    "execution": {
     "iopub.execute_input": "2023-05-26T08:20:35.499161Z",
     "iopub.status.busy": "2023-05-26T08:20:35.498291Z",
     "iopub.status.idle": "2023-05-26T08:20:37.244909Z",
     "shell.execute_reply": "2023-05-26T08:20:37.243698Z"
    },
    "papermill": {
     "duration": 1.762499,
     "end_time": "2023-05-26T08:20:37.247701",
     "exception": false,
     "start_time": "2023-05-26T08:20:35.485202",
     "status": "completed"
    },
    "tags": []
   },
   "outputs": [
    {
     "data": {
      "text/plain": [
       "<Axes: ylabel='x_e_out [-]'>"
      ]
     },
     "execution_count": 6,
     "metadata": {},
     "output_type": "execute_result"
    },
    {
     "data": {
      "image/png": "[encoded data removed]",
      "text/plain": [
       "<Figure size 400x600 with 1 Axes>"
      ]
     },
     "metadata": {},
     "output_type": "display_data"
    }
   ],
   "source": [
    "import matplotlib.pyplot as plt\n",
    "import seaborn as sns\n",
    "#Outlier detection using Boxplot\n",
    "plt.figure(figsize=(4,6))\n",
    "sns.boxplot(y =\"x_e_out [-]\", data = df)"
   ]
  },
  {
   "cell_type": "code",
   "execution_count": 7,
   "id": "e586e1e5",
   "metadata": {
    "execution": {
     "iopub.execute_input": "2023-05-26T08:20:37.274918Z",
     "iopub.status.busy": "2023-05-26T08:20:37.274524Z",
     "iopub.status.idle": "2023-05-26T08:20:37.797396Z",
     "shell.execute_reply": "2023-05-26T08:20:37.796373Z"
    },
    "papermill": {
     "duration": 0.540402,
     "end_time": "2023-05-26T08:20:37.800717",
     "exception": false,
     "start_time": "2023-05-26T08:20:37.260315",
     "status": "completed"
    },
    "tags": []
   },
   "outputs": [],
   "source": [
    "from xgboost import XGBRegressor "
   ]
  },
  {
   "cell_type": "code",
   "execution_count": 8,
   "id": "8031e54e",
   "metadata": {
    "execution": {
     "iopub.execute_input": "2023-05-26T08:20:37.828668Z",
     "iopub.status.busy": "2023-05-26T08:20:37.827933Z",
     "iopub.status.idle": "2023-05-26T08:20:37.857620Z",
     "shell.execute_reply": "2023-05-26T08:20:37.856245Z"
    },
    "papermill": {
     "duration": 0.045899,
     "end_time": "2023-05-26T08:20:37.860263",
     "exception": false,
     "start_time": "2023-05-26T08:20:37.814364",
     "status": "completed"
    },
    "tags": []
   },
   "outputs": [
    {
     "data": {
      "text/plain": [
       "id                         0\n",
       "author                  5024\n",
       "geometry                5500\n",
       "pressure [MPa]          4452\n",
       "mass_flux [kg/m2-s]     4791\n",
       "x_e_out [-]            10415\n",
       "D_e [mm]                5488\n",
       "D_h [mm]                4589\n",
       "length [mm]             4759\n",
       "chf_exp [MW/m2]            0\n",
       "dtype: int64"
      ]
     },
     "execution_count": 8,
     "metadata": {},
     "output_type": "execute_result"
    }
   ],
   "source": [
    "df.isnull().sum()"
   ]
  },
  {
   "cell_type": "markdown",
   "id": "9a114b74",
   "metadata": {
    "papermill": {
     "duration": 0.011868,
     "end_time": "2023-05-26T08:20:37.884395",
     "exception": false,
     "start_time": "2023-05-26T08:20:37.872527",
     "status": "completed"
    },
    "tags": []
   },
   "source": [
    "1.K-Nearest Neighbors (KNN) Imputation:\n",
    "\n",
    "KNN imputation is a non-parametric method that imputes missing values by finding the K nearest neighbors based on other features and using their values to estimate the missing values.\n",
    "It can handle missing values in other features because it only considers non-missing values when determining the nearest neighbors.\n",
    "The imputation is performed by taking the mean or median of the neighbors' values. Let us use KNN Imputation to try and get some missing values imputed"
   ]
  },
  {
   "cell_type": "code",
   "execution_count": 9,
   "id": "99385b8c",
   "metadata": {
    "execution": {
     "iopub.execute_input": "2023-05-26T08:20:37.911733Z",
     "iopub.status.busy": "2023-05-26T08:20:37.910870Z",
     "iopub.status.idle": "2023-05-26T08:20:37.931228Z",
     "shell.execute_reply": "2023-05-26T08:20:37.930332Z"
    },
    "papermill": {
     "duration": 0.037268,
     "end_time": "2023-05-26T08:20:37.933914",
     "exception": false,
     "start_time": "2023-05-26T08:20:37.896646",
     "status": "completed"
    },
    "tags": []
   },
   "outputs": [],
   "source": [
    "y1=df['x_e_out [-]']\n",
    "X1=df.drop('x_e_out [-]',axis=1)\n",
    "dfKNN=df.copy()\n",
    "dfKNN=df.select_dtypes(exclude='object')"
   ]
  },
  {
   "cell_type": "markdown",
   "id": "19916054",
   "metadata": {
    "papermill": {
     "duration": 0.011909,
     "end_time": "2023-05-26T08:20:37.958046",
     "exception": false,
     "start_time": "2023-05-26T08:20:37.946137",
     "status": "completed"
    },
    "tags": []
   },
   "source": [
    "viewing the seperated data for performing accurate KNN imputation"
   ]
  },
  {
   "cell_type": "code",
   "execution_count": 10,
   "id": "dc3d4fab",
   "metadata": {
    "execution": {
     "iopub.execute_input": "2023-05-26T08:20:37.985866Z",
     "iopub.status.busy": "2023-05-26T08:20:37.985034Z",
     "iopub.status.idle": "2023-05-26T08:21:22.181167Z",
     "shell.execute_reply": "2023-05-26T08:21:22.180283Z"
    },
    "papermill": {
     "duration": 44.213135,
     "end_time": "2023-05-26T08:21:22.183892",
     "exception": false,
     "start_time": "2023-05-26T08:20:37.970757",
     "status": "completed"
    },
    "tags": []
   },
   "outputs": [],
   "source": [
    "from sklearn.impute import KNNImputer\n",
    "imputer=KNNImputer()\n",
    "dfKNN_imputed=imputer.fit_transform(dfKNN)\n",
    "dfKNN_imputed=pd.DataFrame(dfKNN_imputed,columns=dfKNN.columns)"
   ]
  },
  {
   "cell_type": "markdown",
   "id": "828d7836",
   "metadata": {
    "papermill": {
     "duration": 0.011845,
     "end_time": "2023-05-26T08:21:22.208126",
     "exception": false,
     "start_time": "2023-05-26T08:21:22.196281",
     "status": "completed"
    },
    "tags": []
   },
   "source": [
    "checking if all null values have been imputed accordingly"
   ]
  },
  {
   "cell_type": "code",
   "execution_count": 11,
   "id": "99366dc5",
   "metadata": {
    "execution": {
     "iopub.execute_input": "2023-05-26T08:21:22.234133Z",
     "iopub.status.busy": "2023-05-26T08:21:22.233689Z",
     "iopub.status.idle": "2023-05-26T08:21:22.242741Z",
     "shell.execute_reply": "2023-05-26T08:21:22.241610Z"
    },
    "papermill": {
     "duration": 0.02475,
     "end_time": "2023-05-26T08:21:22.245135",
     "exception": false,
     "start_time": "2023-05-26T08:21:22.220385",
     "status": "completed"
    },
    "tags": []
   },
   "outputs": [
    {
     "data": {
      "text/plain": [
       "0"
      ]
     },
     "execution_count": 11,
     "metadata": {},
     "output_type": "execute_result"
    }
   ],
   "source": [
    "dfKNN_imputed.isnull().sum().sum()"
   ]
  },
  {
   "cell_type": "markdown",
   "id": "5ff769b0",
   "metadata": {
    "papermill": {
     "duration": 0.012351,
     "end_time": "2023-05-26T08:21:22.270208",
     "exception": false,
     "start_time": "2023-05-26T08:21:22.257857",
     "status": "completed"
    },
    "tags": []
   },
   "source": [
    "vieweing the target column accordingly as needed to"
   ]
  },
  {
   "cell_type": "code",
   "execution_count": 12,
   "id": "b218f653",
   "metadata": {
    "execution": {
     "iopub.execute_input": "2023-05-26T08:21:22.296483Z",
     "iopub.status.busy": "2023-05-26T08:21:22.296056Z",
     "iopub.status.idle": "2023-05-26T08:21:22.305449Z",
     "shell.execute_reply": "2023-05-26T08:21:22.304480Z"
    },
    "papermill": {
     "duration": 0.025361,
     "end_time": "2023-05-26T08:21:22.307772",
     "exception": false,
     "start_time": "2023-05-26T08:21:22.282411",
     "status": "completed"
    },
    "tags": []
   },
   "outputs": [
    {
     "data": {
      "text/plain": [
       "0        0.17540\n",
       "1       -0.04160\n",
       "2        0.03350\n",
       "3       -0.02790\n",
       "4        0.01864\n",
       "          ...   \n",
       "31639    0.08860\n",
       "31640   -0.02874\n",
       "31641   -0.12240\n",
       "31642   -0.01556\n",
       "31643    0.06030\n",
       "Name: x_e_out [-], Length: 31644, dtype: float64"
      ]
     },
     "execution_count": 12,
     "metadata": {},
     "output_type": "execute_result"
    }
   ],
   "source": [
    "dfKNN_imputed['x_e_out [-]']"
   ]
  },
  {
   "cell_type": "code",
   "execution_count": 13,
   "id": "97c7bb92",
   "metadata": {
    "execution": {
     "iopub.execute_input": "2023-05-26T08:21:22.335358Z",
     "iopub.status.busy": "2023-05-26T08:21:22.334721Z",
     "iopub.status.idle": "2023-05-26T08:21:22.365485Z",
     "shell.execute_reply": "2023-05-26T08:21:22.364305Z"
    },
    "papermill": {
     "duration": 0.047612,
     "end_time": "2023-05-26T08:21:22.367821",
     "exception": false,
     "start_time": "2023-05-26T08:21:22.320209",
     "status": "completed"
    },
    "tags": []
   },
   "outputs": [
    {
     "data": {
      "text/html": [
       "<div>\n",
       "<style scoped>\n",
       "    .dataframe tbody tr th:only-of-type {\n",
       "        vertical-align: middle;\n",
       "    }\n",
       "\n",
       "    .dataframe tbody tr th {\n",
       "        vertical-align: top;\n",
       "    }\n",
       "\n",
       "    .dataframe thead th {\n",
       "        text-align: right;\n",
       "    }\n",
       "</style>\n",
       "<table border=\"1\" class=\"dataframe\">\n",
       "  <thead>\n",
       "    <tr style=\"text-align: right;\">\n",
       "      <th></th>\n",
       "      <th>id</th>\n",
       "      <th>author</th>\n",
       "      <th>geometry</th>\n",
       "      <th>pressure [MPa]</th>\n",
       "      <th>mass_flux [kg/m2-s]</th>\n",
       "      <th>x_e_out [-]</th>\n",
       "      <th>D_e [mm]</th>\n",
       "      <th>D_h [mm]</th>\n",
       "      <th>length [mm]</th>\n",
       "      <th>chf_exp [MW/m2]</th>\n",
       "    </tr>\n",
       "  </thead>\n",
       "  <tbody>\n",
       "    <tr>\n",
       "      <th>0</th>\n",
       "      <td>1</td>\n",
       "      <td>Inasaka</td>\n",
       "      <td>tube</td>\n",
       "      <td>0.39</td>\n",
       "      <td>5600</td>\n",
       "      <td>-0.1041</td>\n",
       "      <td>3.0</td>\n",
       "      <td>3.0</td>\n",
       "      <td>100</td>\n",
       "      <td>11.3</td>\n",
       "    </tr>\n",
       "    <tr>\n",
       "      <th>1</th>\n",
       "      <td>2</td>\n",
       "      <td>Inasaka</td>\n",
       "      <td>tube</td>\n",
       "      <td>0.31</td>\n",
       "      <td>6700</td>\n",
       "      <td>-0.0596</td>\n",
       "      <td>3.0</td>\n",
       "      <td>3.0</td>\n",
       "      <td>100</td>\n",
       "      <td>10.6</td>\n",
       "    </tr>\n",
       "    <tr>\n",
       "      <th>2</th>\n",
       "      <td>3</td>\n",
       "      <td>Inasaka</td>\n",
       "      <td>tube</td>\n",
       "      <td>0.33</td>\n",
       "      <td>4300</td>\n",
       "      <td>-0.0395</td>\n",
       "      <td>3.0</td>\n",
       "      <td>3.0</td>\n",
       "      <td>100</td>\n",
       "      <td>7.3</td>\n",
       "    </tr>\n",
       "    <tr>\n",
       "      <th>3</th>\n",
       "      <td>4</td>\n",
       "      <td>Inasaka</td>\n",
       "      <td>tube</td>\n",
       "      <td>0.62</td>\n",
       "      <td>6400</td>\n",
       "      <td>-0.1460</td>\n",
       "      <td>3.0</td>\n",
       "      <td>3.0</td>\n",
       "      <td>100</td>\n",
       "      <td>12.8</td>\n",
       "    </tr>\n",
       "    <tr>\n",
       "      <th>4</th>\n",
       "      <td>5</td>\n",
       "      <td>Inasaka</td>\n",
       "      <td>tube</td>\n",
       "      <td>0.64</td>\n",
       "      <td>4700</td>\n",
       "      <td>-0.0849</td>\n",
       "      <td>3.0</td>\n",
       "      <td>3.0</td>\n",
       "      <td>100</td>\n",
       "      <td>11.0</td>\n",
       "    </tr>\n",
       "  </tbody>\n",
       "</table>\n",
       "</div>"
      ],
      "text/plain": [
       "   id   author geometry  pressure [MPa]  mass_flux [kg/m2-s]  x_e_out [-]  \\\n",
       "0   1  Inasaka     tube            0.39                 5600      -0.1041   \n",
       "1   2  Inasaka     tube            0.31                 6700      -0.0596   \n",
       "2   3  Inasaka     tube            0.33                 4300      -0.0395   \n",
       "3   4  Inasaka     tube            0.62                 6400      -0.1460   \n",
       "4   5  Inasaka     tube            0.64                 4700      -0.0849   \n",
       "\n",
       "   D_e [mm]  D_h [mm]  length [mm]  chf_exp [MW/m2]  \n",
       "0       3.0       3.0          100             11.3  \n",
       "1       3.0       3.0          100             10.6  \n",
       "2       3.0       3.0          100              7.3  \n",
       "3       3.0       3.0          100             12.8  \n",
       "4       3.0       3.0          100             11.0  "
      ]
     },
     "execution_count": 13,
     "metadata": {},
     "output_type": "execute_result"
    }
   ],
   "source": [
    "df1=pd.read_csv('/kaggle/input/predicting-heat-flux/Data_CHF_Zhao_2020_ATE.csv')\n",
    "df1.head()"
   ]
  },
  {
   "cell_type": "code",
   "execution_count": 14,
   "id": "10282a7f",
   "metadata": {
    "execution": {
     "iopub.execute_input": "2023-05-26T08:21:22.395619Z",
     "iopub.status.busy": "2023-05-26T08:21:22.394966Z",
     "iopub.status.idle": "2023-05-26T08:21:22.401834Z",
     "shell.execute_reply": "2023-05-26T08:21:22.400821Z"
    },
    "papermill": {
     "duration": 0.023193,
     "end_time": "2023-05-26T08:21:22.403980",
     "exception": false,
     "start_time": "2023-05-26T08:21:22.380787",
     "status": "completed"
    },
    "tags": []
   },
   "outputs": [
    {
     "data": {
      "text/plain": [
       "Index(['id', 'author', 'geometry', 'pressure [MPa]', 'mass_flux [kg/m2-s]',\n",
       "       'x_e_out [-]', 'D_e [mm]', 'D_h [mm]', 'length [mm]',\n",
       "       'chf_exp [MW/m2]'],\n",
       "      dtype='object')"
      ]
     },
     "execution_count": 14,
     "metadata": {},
     "output_type": "execute_result"
    }
   ],
   "source": [
    "df1.columns"
   ]
  },
  {
   "cell_type": "code",
   "execution_count": 15,
   "id": "c3f28007",
   "metadata": {
    "execution": {
     "iopub.execute_input": "2023-05-26T08:21:22.431824Z",
     "iopub.status.busy": "2023-05-26T08:21:22.431151Z",
     "iopub.status.idle": "2023-05-26T08:21:22.442031Z",
     "shell.execute_reply": "2023-05-26T08:21:22.440845Z"
    },
    "papermill": {
     "duration": 0.027705,
     "end_time": "2023-05-26T08:21:22.444494",
     "exception": false,
     "start_time": "2023-05-26T08:21:22.416789",
     "status": "completed"
    },
    "tags": []
   },
   "outputs": [
    {
     "data": {
      "text/plain": [
       "id                     0\n",
       "author                 0\n",
       "geometry               0\n",
       "pressure [MPa]         0\n",
       "mass_flux [kg/m2-s]    0\n",
       "x_e_out [-]            0\n",
       "D_e [mm]               0\n",
       "D_h [mm]               0\n",
       "length [mm]            0\n",
       "chf_exp [MW/m2]        0\n",
       "dtype: int64"
      ]
     },
     "execution_count": 15,
     "metadata": {},
     "output_type": "execute_result"
    }
   ],
   "source": [
    "df1.isnull().sum()"
   ]
  },
  {
   "cell_type": "code",
   "execution_count": 16,
   "id": "60fde51e",
   "metadata": {
    "execution": {
     "iopub.execute_input": "2023-05-26T08:21:22.473310Z",
     "iopub.status.busy": "2023-05-26T08:21:22.472631Z",
     "iopub.status.idle": "2023-05-26T08:21:22.478945Z",
     "shell.execute_reply": "2023-05-26T08:21:22.477929Z"
    },
    "papermill": {
     "duration": 0.023081,
     "end_time": "2023-05-26T08:21:22.481271",
     "exception": false,
     "start_time": "2023-05-26T08:21:22.458190",
     "status": "completed"
    },
    "tags": []
   },
   "outputs": [
    {
     "data": {
      "text/plain": [
       "(1865, 10)"
      ]
     },
     "execution_count": 16,
     "metadata": {},
     "output_type": "execute_result"
    }
   ],
   "source": [
    "df1.shape"
   ]
  },
  {
   "cell_type": "code",
   "execution_count": 17,
   "id": "967d6bf9",
   "metadata": {
    "execution": {
     "iopub.execute_input": "2023-05-26T08:21:22.509638Z",
     "iopub.status.busy": "2023-05-26T08:21:22.509001Z",
     "iopub.status.idle": "2023-05-26T08:21:22.515544Z",
     "shell.execute_reply": "2023-05-26T08:21:22.514614Z"
    },
    "papermill": {
     "duration": 0.023202,
     "end_time": "2023-05-26T08:21:22.517698",
     "exception": false,
     "start_time": "2023-05-26T08:21:22.494496",
     "status": "completed"
    },
    "tags": []
   },
   "outputs": [
    {
     "data": {
      "text/plain": [
       "(31644, 10)"
      ]
     },
     "execution_count": 17,
     "metadata": {},
     "output_type": "execute_result"
    }
   ],
   "source": [
    "df.shape"
   ]
  },
  {
   "cell_type": "markdown",
   "id": "27b39b9f",
   "metadata": {
    "papermill": {
     "duration": 0.012799,
     "end_time": "2023-05-26T08:21:22.543657",
     "exception": false,
     "start_time": "2023-05-26T08:21:22.530858",
     "status": "completed"
    },
    "tags": []
   },
   "source": [
    "filling the entire data csv with its mean values "
   ]
  },
  {
   "cell_type": "code",
   "execution_count": 18,
   "id": "6e727251",
   "metadata": {
    "execution": {
     "iopub.execute_input": "2023-05-26T08:21:22.572029Z",
     "iopub.status.busy": "2023-05-26T08:21:22.571621Z",
     "iopub.status.idle": "2023-05-26T08:21:22.608391Z",
     "shell.execute_reply": "2023-05-26T08:21:22.607267Z"
    },
    "papermill": {
     "duration": 0.053926,
     "end_time": "2023-05-26T08:21:22.610984",
     "exception": false,
     "start_time": "2023-05-26T08:21:22.557058",
     "status": "completed"
    },
    "tags": []
   },
   "outputs": [
    {
     "name": "stderr",
     "output_type": "stream",
     "text": [
      "/tmp/ipykernel_20/1680852710.py:1: FutureWarning: The default value of numeric_only in DataFrame.mean is deprecated. In a future version, it will default to False. In addition, specifying 'numeric_only=None' is deprecated. Select only valid columns or specify the value of numeric_only to silence this warning.\n",
      "  df_mean=df.fillna(df.mean(),inplace=False)\n"
     ]
    }
   ],
   "source": [
    "df_mean=df.fillna(df.mean(),inplace=False)"
   ]
  },
  {
   "cell_type": "code",
   "execution_count": 19,
   "id": "60fe3146",
   "metadata": {
    "execution": {
     "iopub.execute_input": "2023-05-26T08:21:22.639298Z",
     "iopub.status.busy": "2023-05-26T08:21:22.638923Z",
     "iopub.status.idle": "2023-05-26T08:21:22.669514Z",
     "shell.execute_reply": "2023-05-26T08:21:22.668620Z"
    },
    "papermill": {
     "duration": 0.047551,
     "end_time": "2023-05-26T08:21:22.671837",
     "exception": false,
     "start_time": "2023-05-26T08:21:22.624286",
     "status": "completed"
    },
    "tags": []
   },
   "outputs": [
    {
     "data": {
      "text/plain": [
       "id                        0\n",
       "author                 5024\n",
       "geometry               5500\n",
       "pressure [MPa]            0\n",
       "mass_flux [kg/m2-s]       0\n",
       "x_e_out [-]               0\n",
       "D_e [mm]                  0\n",
       "D_h [mm]                  0\n",
       "length [mm]               0\n",
       "chf_exp [MW/m2]           0\n",
       "dtype: int64"
      ]
     },
     "execution_count": 19,
     "metadata": {},
     "output_type": "execute_result"
    }
   ],
   "source": [
    "df_mean.isna().sum()"
   ]
  },
  {
   "cell_type": "code",
   "execution_count": 20,
   "id": "c7ae44d5",
   "metadata": {
    "execution": {
     "iopub.execute_input": "2023-05-26T08:21:22.701168Z",
     "iopub.status.busy": "2023-05-26T08:21:22.700475Z",
     "iopub.status.idle": "2023-05-26T08:21:22.724139Z",
     "shell.execute_reply": "2023-05-26T08:21:22.722967Z"
    },
    "papermill": {
     "duration": 0.041264,
     "end_time": "2023-05-26T08:21:22.726687",
     "exception": false,
     "start_time": "2023-05-26T08:21:22.685423",
     "status": "completed"
    },
    "tags": []
   },
   "outputs": [
    {
     "data": {
      "text/html": [
       "<div>\n",
       "<style scoped>\n",
       "    .dataframe tbody tr th:only-of-type {\n",
       "        vertical-align: middle;\n",
       "    }\n",
       "\n",
       "    .dataframe tbody tr th {\n",
       "        vertical-align: top;\n",
       "    }\n",
       "\n",
       "    .dataframe thead th {\n",
       "        text-align: right;\n",
       "    }\n",
       "</style>\n",
       "<table border=\"1\" class=\"dataframe\">\n",
       "  <thead>\n",
       "    <tr style=\"text-align: right;\">\n",
       "      <th></th>\n",
       "      <th>id</th>\n",
       "      <th>x_e_out [-]</th>\n",
       "    </tr>\n",
       "  </thead>\n",
       "  <tbody>\n",
       "    <tr>\n",
       "      <th>0</th>\n",
       "      <td>4</td>\n",
       "      <td>0.0</td>\n",
       "    </tr>\n",
       "    <tr>\n",
       "      <th>1</th>\n",
       "      <td>7</td>\n",
       "      <td>0.0</td>\n",
       "    </tr>\n",
       "    <tr>\n",
       "      <th>2</th>\n",
       "      <td>10</td>\n",
       "      <td>0.0</td>\n",
       "    </tr>\n",
       "    <tr>\n",
       "      <th>3</th>\n",
       "      <td>12</td>\n",
       "      <td>0.0</td>\n",
       "    </tr>\n",
       "    <tr>\n",
       "      <th>4</th>\n",
       "      <td>23</td>\n",
       "      <td>0.0</td>\n",
       "    </tr>\n",
       "    <tr>\n",
       "      <th>...</th>\n",
       "      <td>...</td>\n",
       "      <td>...</td>\n",
       "    </tr>\n",
       "    <tr>\n",
       "      <th>10410</th>\n",
       "      <td>31633</td>\n",
       "      <td>0.0</td>\n",
       "    </tr>\n",
       "    <tr>\n",
       "      <th>10411</th>\n",
       "      <td>31634</td>\n",
       "      <td>0.0</td>\n",
       "    </tr>\n",
       "    <tr>\n",
       "      <th>10412</th>\n",
       "      <td>31637</td>\n",
       "      <td>0.0</td>\n",
       "    </tr>\n",
       "    <tr>\n",
       "      <th>10413</th>\n",
       "      <td>31640</td>\n",
       "      <td>0.0</td>\n",
       "    </tr>\n",
       "    <tr>\n",
       "      <th>10414</th>\n",
       "      <td>31642</td>\n",
       "      <td>0.0</td>\n",
       "    </tr>\n",
       "  </tbody>\n",
       "</table>\n",
       "<p>10415 rows × 2 columns</p>\n",
       "</div>"
      ],
      "text/plain": [
       "          id  x_e_out [-]\n",
       "0          4          0.0\n",
       "1          7          0.0\n",
       "2         10          0.0\n",
       "3         12          0.0\n",
       "4         23          0.0\n",
       "...      ...          ...\n",
       "10410  31633          0.0\n",
       "10411  31634          0.0\n",
       "10412  31637          0.0\n",
       "10413  31640          0.0\n",
       "10414  31642          0.0\n",
       "\n",
       "[10415 rows x 2 columns]"
      ]
     },
     "execution_count": 20,
     "metadata": {},
     "output_type": "execute_result"
    }
   ],
   "source": [
    "sub=pd.read_csv('/kaggle/input/playground-series-s3e15/sample_submission.csv')\n",
    "sub"
   ]
  },
  {
   "cell_type": "markdown",
   "id": "363712ff",
   "metadata": {
    "papermill": {
     "duration": 0.014089,
     "end_time": "2023-05-26T08:21:22.754971",
     "exception": false,
     "start_time": "2023-05-26T08:21:22.740882",
     "status": "completed"
    },
    "tags": []
   },
   "source": [
    "selecting all the rows from the sample submission that we need to select from our predicted imputed values"
   ]
  },
  {
   "cell_type": "code",
   "execution_count": 21,
   "id": "2da7ee9a",
   "metadata": {
    "execution": {
     "iopub.execute_input": "2023-05-26T08:21:22.785666Z",
     "iopub.status.busy": "2023-05-26T08:21:22.785215Z",
     "iopub.status.idle": "2023-05-26T08:21:22.795955Z",
     "shell.execute_reply": "2023-05-26T08:21:22.794681Z"
    },
    "papermill": {
     "duration": 0.029471,
     "end_time": "2023-05-26T08:21:22.798554",
     "exception": false,
     "start_time": "2023-05-26T08:21:22.769083",
     "status": "completed"
    },
    "tags": []
   },
   "outputs": [],
   "source": [
    "y_pred = df_mean.loc[df_mean['id'].isin(sub['id']), 'x_e_out [-]']"
   ]
  },
  {
   "cell_type": "code",
   "execution_count": 22,
   "id": "10ba16d2",
   "metadata": {
    "execution": {
     "iopub.execute_input": "2023-05-26T08:21:22.828714Z",
     "iopub.status.busy": "2023-05-26T08:21:22.828288Z",
     "iopub.status.idle": "2023-05-26T08:21:22.836759Z",
     "shell.execute_reply": "2023-05-26T08:21:22.835648Z"
    },
    "papermill": {
     "duration": 0.026534,
     "end_time": "2023-05-26T08:21:22.839379",
     "exception": false,
     "start_time": "2023-05-26T08:21:22.812845",
     "status": "completed"
    },
    "tags": []
   },
   "outputs": [
    {
     "data": {
      "text/plain": [
       "4       -0.000453\n",
       "7       -0.000453\n",
       "10      -0.000453\n",
       "12      -0.000453\n",
       "23      -0.000453\n",
       "           ...   \n",
       "31633   -0.000453\n",
       "31634   -0.000453\n",
       "31637   -0.000453\n",
       "31640   -0.000453\n",
       "31642   -0.000453\n",
       "Name: x_e_out [-], Length: 10415, dtype: float64"
      ]
     },
     "execution_count": 22,
     "metadata": {},
     "output_type": "execute_result"
    }
   ],
   "source": [
    "y_pred"
   ]
  },
  {
   "cell_type": "markdown",
   "id": "1fa86d4c",
   "metadata": {
    "papermill": {
     "duration": 0.014303,
     "end_time": "2023-05-26T08:21:22.868326",
     "exception": false,
     "start_time": "2023-05-26T08:21:22.854023",
     "status": "completed"
    },
    "tags": []
   },
   "source": [
    "creating a submission accordingly"
   ]
  },
  {
   "cell_type": "code",
   "execution_count": 23,
   "id": "e5494dc8",
   "metadata": {
    "execution": {
     "iopub.execute_input": "2023-05-26T08:21:22.898510Z",
     "iopub.status.busy": "2023-05-26T08:21:22.898104Z",
     "iopub.status.idle": "2023-05-26T08:21:22.914691Z",
     "shell.execute_reply": "2023-05-26T08:21:22.913361Z"
    },
    "papermill": {
     "duration": 0.034813,
     "end_time": "2023-05-26T08:21:22.917469",
     "exception": false,
     "start_time": "2023-05-26T08:21:22.882656",
     "status": "completed"
    },
    "tags": []
   },
   "outputs": [
    {
     "data": {
      "text/html": [
       "<div>\n",
       "<style scoped>\n",
       "    .dataframe tbody tr th:only-of-type {\n",
       "        vertical-align: middle;\n",
       "    }\n",
       "\n",
       "    .dataframe tbody tr th {\n",
       "        vertical-align: top;\n",
       "    }\n",
       "\n",
       "    .dataframe thead th {\n",
       "        text-align: right;\n",
       "    }\n",
       "</style>\n",
       "<table border=\"1\" class=\"dataframe\">\n",
       "  <thead>\n",
       "    <tr style=\"text-align: right;\">\n",
       "      <th></th>\n",
       "      <th>x_e_out [-]</th>\n",
       "    </tr>\n",
       "    <tr>\n",
       "      <th>id</th>\n",
       "      <th></th>\n",
       "    </tr>\n",
       "  </thead>\n",
       "  <tbody>\n",
       "    <tr>\n",
       "      <th>4</th>\n",
       "      <td>0.0</td>\n",
       "    </tr>\n",
       "    <tr>\n",
       "      <th>7</th>\n",
       "      <td>0.0</td>\n",
       "    </tr>\n",
       "    <tr>\n",
       "      <th>10</th>\n",
       "      <td>0.0</td>\n",
       "    </tr>\n",
       "    <tr>\n",
       "      <th>12</th>\n",
       "      <td>0.0</td>\n",
       "    </tr>\n",
       "    <tr>\n",
       "      <th>23</th>\n",
       "      <td>0.0</td>\n",
       "    </tr>\n",
       "    <tr>\n",
       "      <th>...</th>\n",
       "      <td>...</td>\n",
       "    </tr>\n",
       "    <tr>\n",
       "      <th>31633</th>\n",
       "      <td>0.0</td>\n",
       "    </tr>\n",
       "    <tr>\n",
       "      <th>31634</th>\n",
       "      <td>0.0</td>\n",
       "    </tr>\n",
       "    <tr>\n",
       "      <th>31637</th>\n",
       "      <td>0.0</td>\n",
       "    </tr>\n",
       "    <tr>\n",
       "      <th>31640</th>\n",
       "      <td>0.0</td>\n",
       "    </tr>\n",
       "    <tr>\n",
       "      <th>31642</th>\n",
       "      <td>0.0</td>\n",
       "    </tr>\n",
       "  </tbody>\n",
       "</table>\n",
       "<p>10415 rows × 1 columns</p>\n",
       "</div>"
      ],
      "text/plain": [
       "       x_e_out [-]\n",
       "id                \n",
       "4              0.0\n",
       "7              0.0\n",
       "10             0.0\n",
       "12             0.0\n",
       "23             0.0\n",
       "...            ...\n",
       "31633          0.0\n",
       "31634          0.0\n",
       "31637          0.0\n",
       "31640          0.0\n",
       "31642          0.0\n",
       "\n",
       "[10415 rows x 1 columns]"
      ]
     },
     "execution_count": 23,
     "metadata": {},
     "output_type": "execute_result"
    }
   ],
   "source": [
    "sub=sub.set_index(\"id\")\n",
    "sub"
   ]
  },
  {
   "cell_type": "code",
   "execution_count": 24,
   "id": "54b5bd06",
   "metadata": {
    "execution": {
     "iopub.execute_input": "2023-05-26T08:21:22.948767Z",
     "iopub.status.busy": "2023-05-26T08:21:22.948370Z",
     "iopub.status.idle": "2023-05-26T08:21:22.962212Z",
     "shell.execute_reply": "2023-05-26T08:21:22.960950Z"
    },
    "papermill": {
     "duration": 0.032355,
     "end_time": "2023-05-26T08:21:22.964895",
     "exception": false,
     "start_time": "2023-05-26T08:21:22.932540",
     "status": "completed"
    },
    "tags": []
   },
   "outputs": [
    {
     "data": {
      "text/html": [
       "<div>\n",
       "<style scoped>\n",
       "    .dataframe tbody tr th:only-of-type {\n",
       "        vertical-align: middle;\n",
       "    }\n",
       "\n",
       "    .dataframe tbody tr th {\n",
       "        vertical-align: top;\n",
       "    }\n",
       "\n",
       "    .dataframe thead th {\n",
       "        text-align: right;\n",
       "    }\n",
       "</style>\n",
       "<table border=\"1\" class=\"dataframe\">\n",
       "  <thead>\n",
       "    <tr style=\"text-align: right;\">\n",
       "      <th></th>\n",
       "      <th>x_e_out [-]</th>\n",
       "    </tr>\n",
       "    <tr>\n",
       "      <th>id</th>\n",
       "      <th></th>\n",
       "    </tr>\n",
       "  </thead>\n",
       "  <tbody>\n",
       "    <tr>\n",
       "      <th>4</th>\n",
       "      <td>0.01864</td>\n",
       "    </tr>\n",
       "    <tr>\n",
       "      <th>7</th>\n",
       "      <td>0.08950</td>\n",
       "    </tr>\n",
       "    <tr>\n",
       "      <th>10</th>\n",
       "      <td>-0.02574</td>\n",
       "    </tr>\n",
       "    <tr>\n",
       "      <th>12</th>\n",
       "      <td>0.02720</td>\n",
       "    </tr>\n",
       "    <tr>\n",
       "      <th>23</th>\n",
       "      <td>0.08012</td>\n",
       "    </tr>\n",
       "    <tr>\n",
       "      <th>...</th>\n",
       "      <td>...</td>\n",
       "    </tr>\n",
       "    <tr>\n",
       "      <th>31633</th>\n",
       "      <td>0.07038</td>\n",
       "    </tr>\n",
       "    <tr>\n",
       "      <th>31634</th>\n",
       "      <td>-0.03234</td>\n",
       "    </tr>\n",
       "    <tr>\n",
       "      <th>31637</th>\n",
       "      <td>0.00596</td>\n",
       "    </tr>\n",
       "    <tr>\n",
       "      <th>31640</th>\n",
       "      <td>-0.02874</td>\n",
       "    </tr>\n",
       "    <tr>\n",
       "      <th>31642</th>\n",
       "      <td>-0.01556</td>\n",
       "    </tr>\n",
       "  </tbody>\n",
       "</table>\n",
       "<p>10415 rows × 1 columns</p>\n",
       "</div>"
      ],
      "text/plain": [
       "       x_e_out [-]\n",
       "id                \n",
       "4          0.01864\n",
       "7          0.08950\n",
       "10        -0.02574\n",
       "12         0.02720\n",
       "23         0.08012\n",
       "...            ...\n",
       "31633      0.07038\n",
       "31634     -0.03234\n",
       "31637      0.00596\n",
       "31640     -0.02874\n",
       "31642     -0.01556\n",
       "\n",
       "[10415 rows x 1 columns]"
      ]
     },
     "execution_count": 24,
     "metadata": {},
     "output_type": "execute_result"
    }
   ],
   "source": [
    "sub['x_e_out [-]']=dfKNN_imputed['x_e_out [-]']\n",
    "sub"
   ]
  },
  {
   "cell_type": "markdown",
   "id": "19cf290c",
   "metadata": {
    "papermill": {
     "duration": 0.014629,
     "end_time": "2023-05-26T08:21:22.994818",
     "exception": false,
     "start_time": "2023-05-26T08:21:22.980189",
     "status": "completed"
    },
    "tags": []
   },
   "source": []
  },
  {
   "cell_type": "code",
   "execution_count": 25,
   "id": "e7f0852b",
   "metadata": {
    "execution": {
     "iopub.execute_input": "2023-05-26T08:21:23.026513Z",
     "iopub.status.busy": "2023-05-26T08:21:23.026052Z",
     "iopub.status.idle": "2023-05-26T08:21:23.035448Z",
     "shell.execute_reply": "2023-05-26T08:21:23.034213Z"
    },
    "papermill": {
     "duration": 0.028077,
     "end_time": "2023-05-26T08:21:23.038039",
     "exception": false,
     "start_time": "2023-05-26T08:21:23.009962",
     "status": "completed"
    },
    "tags": []
   },
   "outputs": [
    {
     "data": {
      "text/plain": [
       "x_e_out [-]    0\n",
       "dtype: int64"
      ]
     },
     "execution_count": 25,
     "metadata": {},
     "output_type": "execute_result"
    }
   ],
   "source": [
    "sub.isnull().sum()"
   ]
  },
  {
   "cell_type": "code",
   "execution_count": 26,
   "id": "bdb730d1",
   "metadata": {
    "execution": {
     "iopub.execute_input": "2023-05-26T08:21:23.069630Z",
     "iopub.status.busy": "2023-05-26T08:21:23.069179Z",
     "iopub.status.idle": "2023-05-26T08:21:23.122988Z",
     "shell.execute_reply": "2023-05-26T08:21:23.121853Z"
    },
    "papermill": {
     "duration": 0.072828,
     "end_time": "2023-05-26T08:21:23.125850",
     "exception": false,
     "start_time": "2023-05-26T08:21:23.053022",
     "status": "completed"
    },
    "tags": []
   },
   "outputs": [],
   "source": [
    "sub.to_csv(\"submission.csv\")"
   ]
  },
  {
   "cell_type": "code",
   "execution_count": null,
   "id": "d8938f96",
   "metadata": {
    "papermill": {
     "duration": 0.014919,
     "end_time": "2023-05-26T08:21:23.155607",
     "exception": false,
     "start_time": "2023-05-26T08:21:23.140688",
     "status": "completed"
    },
    "tags": []
   },
   "outputs": [],
   "source": []
  }
 ],
 "metadata": {
  "kernelspec": {
   "display_name": "Python 3",
   "language": "python",
   "name": "python3"
  },
  "language_info": {
   "codemirror_mode": {
    "name": "ipython",
    "version": 3
   },
   "file_extension": ".py",
   "mimetype": "text/x-python",
   "name": "python",
   "nbconvert_exporter": "python",
   "pygments_lexer": "ipython3",
   "version": "3.10.10"
  },
  "papermill": {
   "default_parameters": {},
   "duration": 61.906528,
   "end_time": "2023-05-26T08:21:24.196194",
   "environment_variables": {},
   "exception": null,
   "input_path": "__notebook__.ipynb",
   "output_path": "__notebook__.ipynb",
   "parameters": {},
   "start_time": "2023-05-26T08:20:22.289666",
   "version": "2.4.0"
  }
 },
 "nbformat": 4,
 "nbformat_minor": 5
}
